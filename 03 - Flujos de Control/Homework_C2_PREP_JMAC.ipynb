{
 "cells": [
  {
   "cell_type": "code",
   "execution_count": 101,
   "metadata": {},
   "outputs": [
    {
     "name": "stdout",
     "output_type": "stream",
     "text": [
      "La variable 5 es mayor a 0\n"
     ]
    }
   ],
   "source": [
    "'1) Crear una variable que contenga un elemento del conjunto de números enteros y luego imprimir'\n",
    "'por pantalla si es mayor o menor a cero'\n",
    "\n",
    "n=5\n",
    "if (n>0):\n",
    "    print('La variable' , n , 'es mayor a 0')\n",
    "elif (n<0):\n",
    "    print('La variable' , n , 'es menor a 0')\n",
    "else:\n",
    "    print('La variable' , n , 'es igual a 0')"
   ]
  },
  {
   "cell_type": "code",
   "execution_count": 102,
   "metadata": {},
   "outputs": [
    {
     "name": "stdout",
     "output_type": "stream",
     "text": [
      "La variable 1 y la variable (3+1j) son tipos de datos diferentes\n"
     ]
    }
   ],
   "source": [
    "'2. Crear dos variables y un condicional que informe si son del mismo tipo de dato'\n",
    "x=1\n",
    "y=3+1j\n",
    "if type(x)!=type(y):\n",
    "    print('La variable',x,'y la variable',y,'son tipos de datos diferentes')\n",
    "elif  type(x)==type(y):\n",
    "    print('La variable',x,'y la variable',y,'son tipos de datos iguales')\n"
   ]
  },
  {
   "cell_type": "code",
   "execution_count": 103,
   "metadata": {},
   "outputs": [
    {
     "name": "stdout",
     "output_type": "stream",
     "text": [
      "1 Es numero impar\n",
      "2 Es numero par\n",
      "3 Es numero impar\n",
      "4 Es numero par\n",
      "5 Es numero impar\n",
      "6 Es numero par\n",
      "7 Es numero impar\n",
      "8 Es numero par\n",
      "9 Es numero impar\n",
      "10 Es numero par\n",
      "11 Es numero impar\n",
      "12 Es numero par\n",
      "13 Es numero impar\n",
      "14 Es numero par\n",
      "15 Es numero impar\n",
      "16 Es numero par\n",
      "17 Es numero impar\n",
      "18 Es numero par\n",
      "19 Es numero impar\n",
      "20 Es numero par\n"
     ]
    }
   ],
   "source": [
    "'3. Para los valores enteros del 1 al 20, imprimir por pantalla si es par o impar'\n",
    "for n in range (1,21):\n",
    "    if n%2==0:\n",
    "        print(n,'Es numero par')\n",
    "    else:\n",
    "        print(n,'Es numero impar')\n"
   ]
  },
  {
   "cell_type": "code",
   "execution_count": 104,
   "metadata": {},
   "outputs": [
    {
     "name": "stdout",
     "output_type": "stream",
     "text": [
      "0 ^3 es igual a 0\n",
      "1 ^3 es igual a 1\n",
      "2 ^3 es igual a 8\n",
      "3 ^3 es igual a 27\n",
      "4 ^3 es igual a 64\n",
      "5 ^3 es igual a 125\n"
     ]
    }
   ],
   "source": [
    "'4. En un ciclo for mostrar para los valores entre 0 y 5 el resultado de elevarlo a la potencia igual a 3'\n",
    "\n",
    "for n in range (0,6):\n",
    "    print(n,\n",
    "    '^3 es igual a',n**3)"
   ]
  },
  {
   "cell_type": "code",
   "execution_count": 105,
   "metadata": {},
   "outputs": [
    {
     "name": "stdout",
     "output_type": "stream",
     "text": [
      "1\n",
      "2\n",
      "3\n",
      "4\n",
      "5\n",
      "6\n",
      "7\n",
      "8\n",
      "9\n",
      "10\n",
      "11\n",
      "12\n",
      "13\n",
      "14\n",
      "15\n",
      "16\n",
      "17\n",
      "18\n",
      "19\n",
      "20\n"
     ]
    }
   ],
   "source": [
    "'Crear una variable que contenga un número entero y realizar un ciclo for la misma cantidad de ciclos'\n",
    "\n",
    "variable1=20\n",
    "for x in range (0,variable1): \n",
    "    print(x+1)"
   ]
  },
  {
   "cell_type": "code",
   "execution_count": 106,
   "metadata": {},
   "outputs": [
    {
     "name": "stdout",
     "output_type": "stream",
     "text": [
      "20922789888000\n"
     ]
    }
   ],
   "source": [
    "'6. Utilizar un ciclo while para realizar el factoreo de un número guardado en una variable, sólo si la variable contiene un número entero mayor a 0'\n",
    "\n",
    "x=16\n",
    "y=x\n",
    "if type(x)==int:\n",
    "    if x>0:\n",
    "        while (x>1):\n",
    "            x=x-1\n",
    "            y=y*x\n",
    "        print(y)\n",
    "    else:\n",
    "        print('El numero debe ser mayor a 0')    \n",
    "else:\n",
    "    print('El tipo de dato no se puede factorizar')\n",
    "       "
   ]
  },
  {
   "cell_type": "code",
   "execution_count": 107,
   "metadata": {},
   "outputs": [
    {
     "name": "stdout",
     "output_type": "stream",
     "text": [
      "ciclo while 1\n",
      "ciclo for 2\n",
      "ciclo while 1\n",
      "ciclo for 3\n",
      "ciclo while 2\n",
      "ciclo for 3\n"
     ]
    }
   ],
   "source": [
    "'7. Crear un ciclo for dentro de un ciclo while'\n",
    "\n",
    "a=0\n",
    "while (a<3):\n",
    "    a+=1\n",
    "    for b in range (1,a):\n",
    "        print('ciclo while',b)\n",
    "        print('ciclo for',a)"
   ]
  },
  {
   "cell_type": "code",
   "execution_count": 108,
   "metadata": {},
   "outputs": [
    {
     "name": "stdout",
     "output_type": "stream",
     "text": [
      "Ciclo while numero 5\n",
      "Ciclo for numero 1\n",
      "Ciclo while numero 5\n",
      "Ciclo for numero 2\n",
      "Ciclo while numero 5\n",
      "Ciclo for numero 3\n",
      "Ciclo while numero 5\n",
      "Ciclo for numero 4\n"
     ]
    }
   ],
   "source": [
    "'8. Crear un ciclo while dentro de un ciclo for'\n",
    "a=5\n",
    "for x in range (1,a):\n",
    "    while (a < 5):\n",
    "        a-=1\n",
    "    print('Ciclo while numero',a)\n",
    "    print('Ciclo for numero',x)\n",
    "    "
   ]
  },
  {
   "cell_type": "code",
   "execution_count": 150,
   "metadata": {},
   "outputs": [
    {
     "name": "stdout",
     "output_type": "stream",
     "text": [
      "0\n",
      "1\n",
      "2\n",
      "3\n",
      "5\n",
      "7\n",
      "11\n",
      "13\n",
      "17\n",
      "19\n",
      "23\n",
      "29\n",
      "El numero de veces que entro al ciclo sin break fue 378\n"
     ]
    }
   ],
   "source": [
    "'9. Imprimir los números primos existentes entre 0 y 30'\n",
    "ciclos_sin_break=0\n",
    "a=0\n",
    "while (a<30):\n",
    "    for pr in range(2,a):\n",
    "        ciclos_sin_break+=1\n",
    "        if (a % pr==0):\n",
    "            numero=False\n",
    "    if(numero):\n",
    "        print(a)\n",
    "    else:\n",
    "        numero=True\n",
    "    a+=1\n",
    "print('El numero de veces que entro al ciclo sin break fue',ciclos_sin_break)\n",
    "\n"
   ]
  },
  {
   "cell_type": "code",
   "execution_count": 152,
   "metadata": {},
   "outputs": [
    {
     "name": "stdout",
     "output_type": "stream",
     "text": [
      "0\n",
      "1\n",
      "2\n",
      "3\n",
      "5\n",
      "7\n",
      "11\n",
      "13\n",
      "17\n",
      "19\n",
      "23\n",
      "29\n",
      "El numero de veces que entro al ciclo con break fue de 134\n",
      "La optimizacion fue de 244 ciclos\n"
     ]
    }
   ],
   "source": [
    "'10. ¿Se puede mejorar el proceso del punto 9? Utilizar las sentencias break y/ó continue para tal fin'\n",
    "ciclos_con_break=0\n",
    "a=0\n",
    "while (a<30):\n",
    "    for pr in range(2,a):\n",
    "        ciclos_con_break+=1\n",
    "        if (a % pr==0):\n",
    "            numero=False\n",
    "            break \n",
    "    if(numero):\n",
    "        print(a)\n",
    "    else:\n",
    "        numero=True\n",
    "    a+=1\n",
    "print('El numero de veces que entro al ciclo con break fue de',ciclos_con_break)\n"
   ]
  },
  {
   "cell_type": "code",
   "execution_count": 154,
   "metadata": {},
   "outputs": [
    {
     "name": "stdout",
     "output_type": "stream",
     "text": [
      "La optimizacion fue de 244 ciclos\n"
     ]
    }
   ],
   "source": [
    "'11. En los puntos 9 y 10, se diseño un código que encuentra números primos y además se lo optimizó. ¿Es posible saber en qué medida se optimizó?'\n",
    "\n",
    "print('La optimizacion fue de',ciclos_sin_break-ciclos_con_break,'ciclos')"
   ]
  },
  {
   "cell_type": "code",
   "execution_count": 162,
   "metadata": {},
   "outputs": [
    {
     "name": "stdout",
     "output_type": "stream",
     "text": [
      "El numero de veces que entro al ciclo sin break fue 1128\n",
      "El numero de veces que entro al ciclo con break fue de 349\n",
      "Evaluando 50 numeros la optimizacion es de 779 ciclos, por lo tanto la optimizacion crece\n"
     ]
    }
   ],
   "source": [
    "'12. Si la cantidad de números que se evalúa es mayor a treinta, esa optimización crece?'\n",
    "\n",
    "ciclos_sin_break=0\n",
    "a=0\n",
    "b=50\n",
    "while (a<b):\n",
    "    for pr in range(2,a):\n",
    "        ciclos_sin_break+=1\n",
    "        if (a % pr==0):\n",
    "            numero=False\n",
    "    else:\n",
    "        numero=True\n",
    "    a+=1\n",
    "print('El numero de veces que entro al ciclo sin break fue',ciclos_sin_break)\n",
    "\n",
    "ciclos_con_break=0\n",
    "a=0\n",
    "while (a<b):\n",
    "    for pr in range(2,a):\n",
    "        ciclos_con_break+=1\n",
    "        if (a % pr==0):\n",
    "            numero=False\n",
    "            break \n",
    "    else:\n",
    "        numero=True\n",
    "    a+=1\n",
    "print('El numero de veces que entro al ciclo con break fue de',ciclos_con_break)\n",
    "print('Evaluando',b,'numeros la optimizacion es de', ciclos_sin_break - ciclos_con_break, 'ciclos, por lo tanto la optimizacion crece' )"
   ]
  },
  {
   "cell_type": "code",
   "execution_count": 18,
   "metadata": {},
   "outputs": [
    {
     "name": "stdout",
     "output_type": "stream",
     "text": [
      "108\n",
      "120\n",
      "132\n",
      "144\n",
      "156\n",
      "168\n",
      "180\n",
      "192\n",
      "204\n",
      "216\n",
      "228\n",
      "240\n",
      "252\n",
      "264\n",
      "276\n",
      "288\n",
      "300\n"
     ]
    }
   ],
   "source": [
    "'13. Aplicando continue, armar un ciclo while que solo imprima los valores divisibles por 12, dentro del rango de números de 100 a 300'\n",
    "\n",
    "num=100\n",
    "while (num<300):\n",
    "    num+=1\n",
    "    if (num % 12==0):\n",
    "        print(num)\n",
    "        continue\n",
    "        \n",
    " \n",
    "\n"
   ]
  },
  {
   "cell_type": "code",
   "execution_count": 27,
   "metadata": {},
   "outputs": [
    {
     "name": "stdout",
     "output_type": "stream",
     "text": [
      "0\n",
      "Si quiere encontrar el siguiente numero primo presione 1 de lo contrario precione cualquier tecla\n",
      "1\n",
      "Si quiere encontrar el siguiente numero primo presione 1 de lo contrario precione cualquier tecla\n",
      "2\n",
      "Si quiere encontrar el siguiente numero primo presione 1 de lo contrario precione cualquier tecla\n",
      "3\n",
      "Si quiere encontrar el siguiente numero primo presione 1 de lo contrario precione cualquier tecla\n",
      "5\n",
      "Si quiere encontrar el siguiente numero primo presione 1 de lo contrario precione cualquier tecla\n",
      "7\n",
      "Si quiere encontrar el siguiente numero primo presione 1 de lo contrario precione cualquier tecla\n",
      "11\n",
      "Si quiere encontrar el siguiente numero primo presione 1 de lo contrario precione cualquier tecla\n",
      "13\n",
      "Si quiere encontrar el siguiente numero primo presione 1 de lo contrario precione cualquier tecla\n",
      "17\n",
      "Si quiere encontrar el siguiente numero primo presione 1 de lo contrario precione cualquier tecla\n",
      "19\n",
      "Si quiere encontrar el siguiente numero primo presione 1 de lo contrario precione cualquier tecla\n",
      "23\n",
      "Si quiere encontrar el siguiente numero primo presione 1 de lo contrario precione cualquier tecla\n",
      "29\n",
      "Si quiere encontrar el siguiente numero primo presione 1 de lo contrario precione cualquier tecla\n"
     ]
    }
   ],
   "source": [
    "'14. Utilizar la función input() que permite hacer ingresos por teclado, para encontrar números primos y dar la opción al usario de buscar el siguiente'\n",
    "\n",
    "a=0\n",
    "numero=True\n",
    "while (a<30):\n",
    "    for pr in range(2,a):\n",
    "        if (a % pr==0):\n",
    "            numero=False\n",
    "            break \n",
    "    if(numero):\n",
    "        print(a)\n",
    "        print('Si quiere encontrar el siguiente numero primo presione 1 de lo contrario precione cualquier tecla')\n",
    "        if (input() != \"1\"):\n",
    "            print('finalizar proceso')\n",
    "            break    1\n",
    "            \n",
    "  \n",
    "    else:\n",
    "        numero=True\n",
    "    a+=1"
   ]
  },
  {
   "cell_type": "code",
   "execution_count": 29,
   "metadata": {},
   "outputs": [
    {
     "name": "stdout",
     "output_type": "stream",
     "text": [
      "el numero es 102\n"
     ]
    }
   ],
   "source": [
    "'15. Crear un ciclo while que encuentre dentro del rango de 100 a 300 el primer número divisible por 3 y además múltiplo de 6'\n",
    "a=100\n",
    "b=300\n",
    "while(a<b):\n",
    "    if(a%3==0):\n",
    "        if(a%6==0):\n",
    "            print('el numero es',a)\n",
    "            break\n",
    "    else:\n",
    "        a+=1   "
   ]
  }
 ],
 "metadata": {
  "interpreter": {
   "hash": "63963b3f4c440940f0b94a3100916033a226cb4f45979123153792d60aa56d6a"
  },
  "kernelspec": {
   "display_name": "Python 3.10.4 64-bit",
   "language": "python",
   "name": "python3"
  },
  "language_info": {
   "codemirror_mode": {
    "name": "ipython",
    "version": 3
   },
   "file_extension": ".py",
   "mimetype": "text/x-python",
   "name": "python",
   "nbconvert_exporter": "python",
   "pygments_lexer": "ipython3",
   "version": "3.10.4"
  },
  "orig_nbformat": 4
 },
 "nbformat": 4,
 "nbformat_minor": 2
}
