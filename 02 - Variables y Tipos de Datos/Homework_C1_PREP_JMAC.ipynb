{
 "cells": [
  {
   "cell_type": "code",
   "execution_count": 2,
   "metadata": {},
   "outputs": [
    {
     "name": "stdout",
     "output_type": "stream",
     "text": [
      "1\n"
     ]
    }
   ],
   "source": [
    "'1. Crear una variable que contenga un elemento del conjunto de números enteros y luego imprimir por pantalla'\n",
    "x=1\n",
    "print(x)"
   ]
  },
  {
   "cell_type": "code",
   "execution_count": 1,
   "metadata": {},
   "outputs": [
    {
     "name": "stdout",
     "output_type": "stream",
     "text": [
      "<class 'float'>\n"
     ]
    }
   ],
   "source": [
    "'2. Imprimir el tipo de dato de la constante 8.5'\n",
    "print(type(8.5))"
   ]
  },
  {
   "cell_type": "code",
   "execution_count": 3,
   "metadata": {},
   "outputs": [
    {
     "name": "stdout",
     "output_type": "stream",
     "text": [
      "<class 'int'>\n"
     ]
    }
   ],
   "source": [
    "'3. Imprimir el tipo de dato de la variable creada en el punto 1'\n",
    "print(type(x))"
   ]
  },
  {
   "cell_type": "code",
   "execution_count": null,
   "metadata": {},
   "outputs": [],
   "source": [
    "'4. Crear una variable que contenga tu nombre'\n",
    "nombre=\"jorge alvarado\""
   ]
  },
  {
   "cell_type": "code",
   "execution_count": 13,
   "metadata": {},
   "outputs": [],
   "source": [
    "'5. Crear una variable que contenga un número complejo'\n",
    "numero=1+3j"
   ]
  },
  {
   "cell_type": "code",
   "execution_count": 14,
   "metadata": {},
   "outputs": [
    {
     "name": "stdout",
     "output_type": "stream",
     "text": [
      "<class 'complex'>\n"
     ]
    }
   ],
   "source": [
    "'6. Mostrar el tipo de dato de la variable crada en el punto 5'\n",
    "print(type(numero))\n"
   ]
  },
  {
   "cell_type": "code",
   "execution_count": null,
   "metadata": {},
   "outputs": [],
   "source": [
    "'7. Crear una variable que contenga el valor del número Pi redondeado a 4 decimales'\n",
    "pi=3.1416"
   ]
  },
  {
   "cell_type": "code",
   "execution_count": 16,
   "metadata": {},
   "outputs": [],
   "source": [
    "'8. Crear una variable que contenga el valor \"True\" y otra que contenga el valor True. ¿Se trata de lo mismo?'\n",
    "Verdaderostr='true'\n",
    "Verdaderobool=True"
   ]
  },
  {
   "cell_type": "code",
   "execution_count": 22,
   "metadata": {},
   "outputs": [
    {
     "name": "stdout",
     "output_type": "stream",
     "text": [
      "Las variables anteriores son  <class 'str'>  y  <class 'bool'>  respectivamente.\n"
     ]
    }
   ],
   "source": [
    "'9. Imprimir el tipo de dato correspondientes a las variables creadas en el punto 9'\n",
    "print('Las variables anteriores son ' , type(Verdaderostr) , ' y ' , type(Verdaderobool) , ' respectivamente.')"
   ]
  },
  {
   "cell_type": "code",
   "execution_count": 24,
   "metadata": {},
   "outputs": [
    {
     "name": "stdout",
     "output_type": "stream",
     "text": [
      "41.57\n"
     ]
    }
   ],
   "source": [
    "'10. Asignar a una variable, la suma de un número entero y otro decimal'\n",
    "b=30+11.57\n",
    "print(b)"
   ]
  },
  {
   "cell_type": "code",
   "execution_count": 25,
   "metadata": {},
   "outputs": [
    {
     "name": "stdout",
     "output_type": "stream",
     "text": [
      "(9+7j)\n"
     ]
    }
   ],
   "source": [
    "'11. Realizar una operación de suma de números complejos'\n",
    "c=4+3j\n",
    "d=5+4j\n",
    "print(c+d)"
   ]
  },
  {
   "cell_type": "code",
   "execution_count": 26,
   "metadata": {},
   "outputs": [
    {
     "name": "stdout",
     "output_type": "stream",
     "text": [
      "(10+4j)\n"
     ]
    }
   ],
   "source": [
    "'12. Realizar una operación de suma de un número real y otro complejo'\n",
    "suma=5+d\n",
    "print(suma)"
   ]
  },
  {
   "cell_type": "code",
   "execution_count": 27,
   "metadata": {},
   "outputs": [
    {
     "name": "stdout",
     "output_type": "stream",
     "text": [
      "250\n"
     ]
    }
   ],
   "source": [
    "'13. Realizar una operación de multiplicación'\n",
    "multiplicacion=5*50\n",
    "print(multiplicacion)"
   ]
  },
  {
   "cell_type": "code",
   "execution_count": 28,
   "metadata": {},
   "outputs": [
    {
     "name": "stdout",
     "output_type": "stream",
     "text": [
      "256\n"
     ]
    }
   ],
   "source": [
    "'14. Mostrar el resultado de elevar 2 a la octava potencia'\n",
    "potencia=2**8\n",
    "print(potencia)"
   ]
  },
  {
   "cell_type": "code",
   "execution_count": 29,
   "metadata": {},
   "outputs": [
    {
     "name": "stdout",
     "output_type": "stream",
     "text": [
      "6.75\n"
     ]
    }
   ],
   "source": [
    "'15. Obtener el cociente de la división de 27 entre 4 en una variable y luego mostrarla'\n",
    "division=27/4\n",
    "print(division)"
   ]
  },
  {
   "cell_type": "code",
   "execution_count": 32,
   "metadata": {},
   "outputs": [
    {
     "name": "stdout",
     "output_type": "stream",
     "text": [
      "6\n"
     ]
    }
   ],
   "source": [
    "'16. De la división anterior solamente mostrar la parte entera'\n",
    "Entero=27//4\n",
    "print(Entero)"
   ]
  },
  {
   "cell_type": "code",
   "execution_count": 31,
   "metadata": {},
   "outputs": [
    {
     "name": "stdout",
     "output_type": "stream",
     "text": [
      "3\n"
     ]
    }
   ],
   "source": [
    "'17. De la división de 27 entre 4 mostrar solamente el resto'\n",
    "resto=27%4\n",
    "print(resto)\n"
   ]
  },
  {
   "cell_type": "code",
   "execution_count": 34,
   "metadata": {},
   "outputs": [
    {
     "name": "stdout",
     "output_type": "stream",
     "text": [
      "27\n"
     ]
    }
   ],
   "source": [
    "'18. Utilizando como operandos el número 4 y los resultados obtenidos en los puntos 16 y 17. Obtener 27 como resultado'\n",
    "print(Entero*4+resto)"
   ]
  },
  {
   "cell_type": "code",
   "execution_count": 38,
   "metadata": {},
   "outputs": [
    {
     "name": "stdout",
     "output_type": "stream",
     "text": [
      "Prep Henry\n"
     ]
    }
   ],
   "source": [
    "'19. Utilizar el operador \"+\" en una operación donde intervengan solo variables alfanuméricas'\n",
    "e='Prep '\n",
    "f='Henry'\n",
    "print(e+f)"
   ]
  },
  {
   "cell_type": "code",
   "execution_count": 41,
   "metadata": {},
   "outputs": [
    {
     "name": "stdout",
     "output_type": "stream",
     "text": [
      "False El resultado es falso porque son tipos de datos diferentes\n"
     ]
    }
   ],
   "source": [
    "'20. Evaluar si \"2\" es igual a 2. ¿Por qué ocurre eso?'\n",
    "check1=2==\"2\"\n",
    "print(check,'El resultado es falso porque son tipos de datos diferentes')"
   ]
  },
  {
   "cell_type": "code",
   "execution_count": 44,
   "metadata": {},
   "outputs": [
    {
     "name": "stdout",
     "output_type": "stream",
     "text": [
      "True\n"
     ]
    }
   ],
   "source": [
    "'21. Utilizar las funciones de cambio de tipo de dato, para que la validación del punto 20 resulte verdadera'\n",
    "check2=2==int(\"2\")\n",
    "print(check2)\n"
   ]
  },
  {
   "cell_type": "code",
   "execution_count": 49,
   "metadata": {},
   "outputs": [
    {
     "ename": "ValueError",
     "evalue": "could not convert string to float: '3,8'",
     "output_type": "error",
     "traceback": [
      "\u001b[1;31m---------------------------------------------------------------------------\u001b[0m",
      "\u001b[1;31mValueError\u001b[0m                                Traceback (most recent call last)",
      "\u001b[1;32mc:\\Users\\hp\\Desktop\\Python-Prep\\02 - Variables y Tipos de Datos\\Homework_C1_PREP_JMAC.ipynb Cell 22'\u001b[0m in \u001b[0;36m<cell line: 2>\u001b[1;34m()\u001b[0m\n\u001b[0;32m      <a href='vscode-notebook-cell:/c%3A/Users/hp/Desktop/Python-Prep/02%20-%20Variables%20y%20Tipos%20de%20Datos/Homework_C1_PREP_JMAC.ipynb#ch0000024?line=0'>1</a>\u001b[0m \u001b[39m'\u001b[39m\u001b[39m22. ¿Por qué arroja error el siguiente cambio de tipo de datos? a = float(\u001b[39m\u001b[39m\"\u001b[39m\u001b[39m3,8\u001b[39m\u001b[39m\"\u001b[39m\u001b[39m)\u001b[39m\u001b[39m'\u001b[39m\n\u001b[1;32m----> <a href='vscode-notebook-cell:/c%3A/Users/hp/Desktop/Python-Prep/02%20-%20Variables%20y%20Tipos%20de%20Datos/Homework_C1_PREP_JMAC.ipynb#ch0000024?line=1'>2</a>\u001b[0m a\u001b[39m=\u001b[39m\u001b[39mfloat\u001b[39;49m(\u001b[39m'\u001b[39;49m\u001b[39m3,8\u001b[39;49m\u001b[39m'\u001b[39;49m)\n\u001b[0;32m      <a href='vscode-notebook-cell:/c%3A/Users/hp/Desktop/Python-Prep/02%20-%20Variables%20y%20Tipos%20de%20Datos/Homework_C1_PREP_JMAC.ipynb#ch0000024?line=2'>3</a>\u001b[0m \u001b[39mprint\u001b[39m(\u001b[39m\"\u001b[39m\u001b[39mporque no se puede convertir\u001b[39m\u001b[39m\"\u001b[39m)\n",
      "\u001b[1;31mValueError\u001b[0m: could not convert string to float: '3,8'"
     ]
    }
   ],
   "source": [
    "'22. ¿Por qué arroja error el siguiente cambio de tipo de datos? a = float(\"3,8\")'\n",
    "a=float('3,8')"
   ]
  },
  {
   "cell_type": "code",
   "execution_count": 50,
   "metadata": {},
   "outputs": [
    {
     "name": "stdout",
     "output_type": "stream",
     "text": [
      "-1\n"
     ]
    }
   ],
   "source": [
    "'23. Crear una variable con el valor 3, y utilizar el operador \"-=\" para modificar su contenido'\n",
    "g=3\n",
    "g-=4\n",
    "print(g)"
   ]
  },
  {
   "cell_type": "code",
   "execution_count": 52,
   "metadata": {},
   "outputs": [
    {
     "name": "stdout",
     "output_type": "stream",
     "text": [
      "4\n",
      "No se porque da ese resultado, me gustaría saberlo\n"
     ]
    }
   ],
   "source": [
    "'24. Realizar la operacion 1 << 2 ¿Por qué da ese resultado? ¿Qué es el sistema de numeración binario?'\n",
    "print(1<<2)\n",
    "print(\"No se porque da ese resultado, me gustaría saberlo\")"
   ]
  },
  {
   "cell_type": "code",
   "execution_count": 53,
   "metadata": {},
   "outputs": [
    {
     "ename": "TypeError",
     "evalue": "unsupported operand type(s) for +: 'int' and 'str'",
     "output_type": "error",
     "traceback": [
      "\u001b[1;31m---------------------------------------------------------------------------\u001b[0m",
      "\u001b[1;31mTypeError\u001b[0m                                 Traceback (most recent call last)",
      "\u001b[1;32mc:\\Users\\hp\\Desktop\\Python-Prep\\02 - Variables y Tipos de Datos\\Homework_C1_PREP_JMAC.ipynb Cell 25'\u001b[0m in \u001b[0;36m<cell line: 2>\u001b[1;34m()\u001b[0m\n\u001b[0;32m      <a href='vscode-notebook-cell:/c%3A/Users/hp/Desktop/Python-Prep/02%20-%20Variables%20y%20Tipos%20de%20Datos/Homework_C1_PREP_JMAC.ipynb#ch0000027?line=0'>1</a>\u001b[0m \u001b[39m'\u001b[39m\u001b[39m25. Realizar la operación 2 + \u001b[39m\u001b[39m\"\u001b[39m\u001b[39m2\u001b[39m\u001b[39m\"\u001b[39m\u001b[39m ¿Por qué no está permitido? ¿Si los dos operandos serían del mismo tipo, siempre arrojaría el mismo resultado?\u001b[39m\u001b[39m'\u001b[39m\n\u001b[1;32m----> <a href='vscode-notebook-cell:/c%3A/Users/hp/Desktop/Python-Prep/02%20-%20Variables%20y%20Tipos%20de%20Datos/Homework_C1_PREP_JMAC.ipynb#ch0000027?line=1'>2</a>\u001b[0m \u001b[39mprint\u001b[39m(\u001b[39m2\u001b[39;49m \u001b[39m+\u001b[39;49m \u001b[39m'\u001b[39;49m\u001b[39m2\u001b[39;49m\u001b[39m'\u001b[39;49m)\n",
      "\u001b[1;31mTypeError\u001b[0m: unsupported operand type(s) for +: 'int' and 'str'"
     ]
    }
   ],
   "source": [
    "'25. Realizar la operación 2 + \"2\" ¿Por qué no está permitido? ¿Si los dos operandos serían del mismo tipo, siempre arrojaría el mismo resultado?'\n",
    "print(2 + '2')\n",
    "'Arroja error porque son tipos de datos diferentes'"
   ]
  },
  {
   "cell_type": "code",
   "execution_count": 54,
   "metadata": {},
   "outputs": [
    {
     "name": "stdout",
     "output_type": "stream",
     "text": [
      " Animo!  Animo!  Animo! \n"
     ]
    }
   ],
   "source": [
    "'26. Realizar una operación válida entre valores de tipo entero y string'\n",
    "print(3*' Animo! ')"
   ]
  }
 ],
 "metadata": {
  "interpreter": {
   "hash": "43a24ecce625020f2d6631fb4cfb730bba30d877e9fe9ec2e0d85cb5a52a2b64"
  },
  "kernelspec": {
   "display_name": "Python 3.9.12 64-bit (windows store)",
   "language": "python",
   "name": "python3"
  },
  "language_info": {
   "codemirror_mode": {
    "name": "ipython",
    "version": 3
   },
   "file_extension": ".py",
   "mimetype": "text/x-python",
   "name": "python",
   "nbconvert_exporter": "python",
   "pygments_lexer": "ipython3",
   "version": "3.9.12"
  },
  "orig_nbformat": 4
 },
 "nbformat": 4,
 "nbformat_minor": 2
}
